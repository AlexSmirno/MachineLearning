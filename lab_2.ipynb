{
 "cells": [
  {
   "attachments": {},
   "cell_type": "markdown",
   "id": "5770570e",
   "metadata": {},
   "source": [
    "# Лабораторная работа №2\n",
    "\n",
    "ФИО:  **Смирнов Александр Андреевич**   \n",
    "Группа: **БИВТ-20-1**  \n",
    "\n",
    "Отправлять можно следующими способами (**обязательно указать свое ФИО и группу в каком-либо виде**):\n",
    "1. Создать **приватный** репозиторий на github, добавить меня по нику (l3lush) в Collaborators (Settings -> Collaborators -> Add people)\n",
    "2. Отправить заполненный ноутбук мне на почту avmysh@gmail.com, либо m1603956@edu.misis.ru\n",
    "3. Отправить заполненный ноутбук мне в тг @l3lush. \n",
    "\n",
    "**Deadlines**:\n",
    "- soft -- **02.04.2023 23:59** (за сдачу в пределах этого времени +1 балл в табличку)\n",
    "- hard -- **16.04.2023 23:59**\n",
    "\n",
    "\n",
    "**Что необходимо сделать**:\n",
    "1. Заполнить все ячейки ниже кодом так, чтобы прошли все `assert`ы."
   ]
  },
  {
   "cell_type": "markdown",
   "id": "3704002f",
   "metadata": {},
   "source": [
    "# Задача 1. Реализовать слой с функцией активации \"сигмоида\""
   ]
  },
  {
   "cell_type": "markdown",
   "id": "edf0b72b",
   "metadata": {},
   "source": [
    "![](https://upload.wikimedia.org/wikipedia/commons/thumb/8/88/Logistic-curve.svg/1200px-Logistic-curve.svg.png)"
   ]
  },
  {
   "cell_type": "markdown",
   "id": "6cbd5a25",
   "metadata": {},
   "source": [
    "Формула сигмоиды:\n",
    "$$\n",
    "f(x) = \\frac {1}{1 + e^{-x}}\n",
    "$$"
   ]
  },
  {
   "cell_type": "code",
   "execution_count": 1,
   "id": "8f0352a0",
   "metadata": {},
   "outputs": [],
   "source": [
    "import numpy as np"
   ]
  },
  {
   "cell_type": "code",
   "execution_count": 2,
   "id": "2156cdb3",
   "metadata": {},
   "outputs": [],
   "source": [
    "class SigmoidLayer():\n",
    "\n",
    "    def __init__(self):\n",
    "        \"\"\"\n",
    "        На будущее необходимо сохранить параметры и gradInput \n",
    "        \"\"\"\n",
    "        self.params = None\n",
    "        self.gradInput = None\n",
    "        \n",
    "        pass\n",
    "\n",
    "    def forward(self, X):\n",
    "        \"\"\"\n",
    "        Реализовать forward pass\n",
    "        P.S. не забудьте сохранить X во внутреннюю переменную\n",
    "        \"\"\"\n",
    "        self.X = X\n",
    "\n",
    "        return 1/(1+np.exp(-X))\n",
    "        pass"
   ]
  },
  {
   "cell_type": "code",
   "execution_count": 3,
   "id": "3fa22d18",
   "metadata": {},
   "outputs": [],
   "source": [
    "np.random.seed(17)\n",
    "\n",
    "X = np.random.random(size=(100, 3))\n",
    "#print(X)\n",
    "sigmoid = SigmoidLayer()\n",
    "output = sigmoid.forward(X)\n",
    "correct_answer = np.array([[0.57313782, 0.62961995, 0.54773438],\n",
    "                           [0.51696857, 0.68718368, 0.65843628],\n",
    "                           [0.65419284, 0.64005501, 0.50976449],\n",
    "                           [0.58851107, 0.7202462 , 0.51500666],\n",
    "                           [0.70350447, 0.70626044, 0.51279562]])\n",
    "\n",
    "assert np.isclose(output[:5], correct_answer).all()\n",
    "assert hasattr(sigmoid, \"params\"), \"Нет параметра params в реализованном классе\"\n",
    "assert hasattr(sigmoid, \"gradInput\"), \"Нет параметра gradInput в реализованном классе\"\n",
    "assert hasattr(sigmoid, \"X\"), \"Не сохранили X в реализованном классе\""
   ]
  },
  {
   "cell_type": "markdown",
   "id": "3b1aa776",
   "metadata": {},
   "source": [
    "# Задача 2. Реализовать слой с активацией гиперболического тангенса"
   ]
  },
  {
   "cell_type": "markdown",
   "id": "57c26084",
   "metadata": {},
   "source": [
    "![](https://production-media.paperswithcode.com/methods/Screen_Shot_2020-05-27_at_4.23.22_PM_dcuMBJl.png)"
   ]
  },
  {
   "cell_type": "code",
   "execution_count": 4,
   "id": "886576bb",
   "metadata": {},
   "outputs": [],
   "source": [
    "class TanhLayer():\n",
    "    def __init__(self):\n",
    "        \"\"\"\n",
    "        На будущее необходимо сохранить параметры и gradInput \n",
    "        \"\"\"\n",
    "        self.params = None\n",
    "        self.gradInput = None\n",
    "        \n",
    "        pass\n",
    "    \n",
    "\n",
    "    def forward(self, X):\n",
    "        \"\"\"\n",
    "        Реализовать forward pass\n",
    "        P.S. не забудьте сохранить X во внутреннюю переменную\n",
    "        \"\"\"\n",
    "        self.X = X.copy()\n",
    "\n",
    "        return (np.exp(X)-np.exp(-X))/(np.exp(X)+np.exp(-X))\n",
    "        pass"
   ]
  },
  {
   "cell_type": "code",
   "execution_count": 5,
   "id": "4088016c",
   "metadata": {},
   "outputs": [],
   "source": [
    "np.random.seed(17)\n",
    "\n",
    "X = np.random.random(size=(100, 3))\n",
    "tanh = TanhLayer()\n",
    "output = tanh.forward(X)\n",
    "correct_answer = np.array([[0.28642281, 0.48582948, 0.18921297],\n",
    "                           [0.0677962 , 0.65669792, 0.57591821],\n",
    "                           [0.5632092 , 0.51946218, 0.03904306],\n",
    "                           [0.34328675, 0.73782249, 0.05997262],\n",
    "                           [0.69833441, 0.70505935, 0.05114899]])\n",
    "assert np.isclose(output[:5], correct_answer).all()\n",
    "assert hasattr(tanh, \"params\"), \"Нет параметра params в реализованном классе\"\n",
    "assert hasattr(tanh, \"gradInput\"), \"Нет параметра gradInput в реализованном классе\"\n",
    "assert hasattr(tanh, \"X\"), \"Не сохранили X в реализованном классе\""
   ]
  },
  {
   "cell_type": "markdown",
   "id": "be2b44f7",
   "metadata": {},
   "source": [
    "# Задача 3. Реализовать функцию потерь MSE"
   ]
  },
  {
   "cell_type": "markdown",
   "id": "2d15d7c2",
   "metadata": {},
   "source": [
    "В качестве интерактива-микрозадания, поищите формулу MSE в гугле 😊"
   ]
  },
  {
   "cell_type": "code",
   "execution_count": 6,
   "id": "919014f4",
   "metadata": {},
   "outputs": [],
   "source": [
    "class MSELoss():\n",
    "    def forward(self, y_true, y_pred):\n",
    "        \"\"\"\n",
    "        Реализовать forward pass\n",
    "        \"\"\"\n",
    "        \n",
    "        return ((y_true - y_pred)**2).sum() / y_pred.size\n",
    "        pass"
   ]
  },
  {
   "cell_type": "code",
   "execution_count": 7,
   "id": "f14b8a55",
   "metadata": {},
   "outputs": [
    {
     "name": "stdout",
     "output_type": "stream",
     "text": [
      "157953.51\n"
     ]
    }
   ],
   "source": [
    "np.random.seed(17)\n",
    "\n",
    "y_true = np.random.randint(0, 1000, size=(100))\n",
    "y_pred = np.random.randint(0, 1000, size=(100))\n",
    "mse = MSELoss()\n",
    "output = mse.forward(y_true, y_pred)\n",
    "print(output)\n",
    "correct_answer = 157953.51\n",
    "assert round(output) == round(correct_answer)"
   ]
  },
  {
   "cell_type": "markdown",
   "id": "237d40c5",
   "metadata": {},
   "source": [
    "# Задача 4. Реализовать каркас нейросети"
   ]
  },
  {
   "cell_type": "code",
   "execution_count": 8,
   "id": "db70586b",
   "metadata": {},
   "outputs": [],
   "source": [
    "class LinearLayer:\n",
    "    \"\"\"\n",
    "    Линейный слой с семинаров, ничего менять не надо\n",
    "    \"\"\"\n",
    "    def __init__(self, in_size, out_size):\n",
    "        self.W = np.random.randn(in_size, out_size)\n",
    "        self.params = [self.W]\n",
    "        self.gradW = None\n",
    "        self.gradInput = None\n",
    "        \n",
    "    def forward(self, X):\n",
    "        self.X = X.copy()\n",
    "        output = X.dot(self.W)\n",
    "        print(self.W)\n",
    "        return output\n",
    "\n",
    "\n",
    "class NN:\n",
    "    def __init__(self, loss_func):\n",
    "        \"\"\"\n",
    "        Необходимо, чтобы нейросеть знала все о своей конфигурации.\n",
    "        1. Создайте внутренние переменные layers, params и grads как пустые листы.\n",
    "        2. Во внутреннюю переменную loss_func положите значение полученной переменной loss_func.\n",
    "        \"\"\"\n",
    "        self.layers = []\n",
    "        self.params = []\n",
    "        self.grads = []\n",
    "        self.loss_func = loss_func\n",
    "        pass\n",
    "\n",
    "    def add_layer(self, layer):\n",
    "        \"\"\"\n",
    "        Функция добавления слоев в нейросеть.\n",
    "        Необходимо, чтобы обновлялись (расширялись) внутренние переменные,\n",
    "        ответственные за слои и параметры этих самых слоев, которые мы инициализировали\n",
    "        в __init__ методе.\n",
    "        \"\"\"\n",
    "        self.layers.append(layer)\n",
    "        pass\n",
    "\n",
    "    def forward(self, X):\n",
    "        \"\"\"\n",
    "        Реализовать forward pass для всей нейросети.\n",
    "        Т.е. реализовать forward pass по каждому слою, и в конце выдать результат \n",
    "        \"\"\"\n",
    "        for i in range (self.layers.__len__()):\n",
    "             X = self.layers[i].forward(X)\n",
    "        return X"
   ]
  },
  {
   "cell_type": "code",
   "execution_count": 9,
   "id": "3f6d4545",
   "metadata": {},
   "outputs": [],
   "source": [
    "nn = NN(MSELoss())\n",
    "\n",
    "assert hasattr(nn, \"layers\")\n",
    "assert hasattr(nn, \"params\")\n",
    "assert hasattr(nn, \"grads\")\n",
    "assert hasattr(nn, \"loss_func\")\n",
    "assert isinstance(nn.loss_func, MSELoss)"
   ]
  },
  {
   "cell_type": "code",
   "execution_count": 10,
   "id": "b0209c7d",
   "metadata": {},
   "outputs": [
    {
     "name": "stdout",
     "output_type": "stream",
     "text": [
      "[[ 0.33732948  0.26569806  0.99643045  1.25677661 -2.2161242 ]\n",
      " [-0.3287093   0.12151784  0.50575728 -0.522335   -0.59177353]\n",
      " [ 0.00829246  0.40167972  1.87760524 -0.54459678  0.37619153]]\n",
      "[[-0.71117744]\n",
      " [ 1.95104048]\n",
      " [-0.75899181]\n",
      " [ 0.22927153]\n",
      " [ 1.40683388]]\n"
     ]
    }
   ],
   "source": [
    "np.random.seed(17)\n",
    "\n",
    "X = np.random.random(size=(100, 3))\n",
    "nn = NN(MSELoss())\n",
    "\n",
    "linear1 = LinearLayer(3, 5)\n",
    "nn.add_layer(linear1)\n",
    "\n",
    "sigmoid1 = SigmoidLayer()\n",
    "nn.add_layer(sigmoid1)\n",
    "\n",
    "linear2 = LinearLayer(5, 1)\n",
    "nn.add_layer(linear2)\n",
    "\n",
    "sigmoid2 = SigmoidLayer()\n",
    "nn.add_layer(sigmoid2)\n",
    "\n",
    "output_nn = nn.forward(X)\n",
    "\n",
    "assert round(output_nn.sum()) == 65"
   ]
  },
  {
   "attachments": {},
   "cell_type": "markdown",
   "id": "d1d04155",
   "metadata": {},
   "source": [
    "# Задача 5. Соберите свою собственную нейросеть\n",
    "\n",
    "Конфигурация сети, как на картинке\n",
    "![](https://waksoft.susu.ru/wp-content/uploads/2021/05/nn-title.png)\n",
    "\n",
    "Активации любые на ваш вкус (можете чередовать, делать одни и те же и прочее, что душе угодно)"
   ]
  },
  {
   "cell_type": "code",
   "execution_count": 11,
   "id": "c72b79ae",
   "metadata": {},
   "outputs": [
    {
     "name": "stdout",
     "output_type": "stream",
     "text": [
      "(100, 3)\n"
     ]
    }
   ],
   "source": [
    "np.random.seed(17)\n",
    "\n",
    "nn = NN(MSELoss())\n",
    "X = np.random.random(size=(100, 3))\n",
    "print(X.shape)\n",
    "\n",
    "linear1 = LinearLayer(4, 4)\n",
    "nn.add_layer(linear1)\n",
    "\n",
    "linear2 = LinearLayer(4, 5)\n",
    "nn.add_layer(linear2)\n",
    "\n",
    "linear3 = LinearLayer(5, 6)\n",
    "nn.add_layer(linear3)\n",
    "\n",
    "linear4 = LinearLayer(6, 4)\n",
    "nn.add_layer(linear4)\n",
    "\n",
    "linear5 = LinearLayer(4, 3)\n",
    "nn.add_layer(linear5)\n",
    "\n",
    "linear6 = LinearLayer(3, 3)\n",
    "nn.add_layer(linear6)\n"
   ]
  },
  {
   "cell_type": "code",
   "execution_count": 12,
   "id": "11ffea06",
   "metadata": {},
   "outputs": [
    {
     "name": "stdout",
     "output_type": "stream",
     "text": [
      "[[ 0.33732948  0.26569806  0.99643045  1.25677661]\n",
      " [-2.2161242  -0.3287093   0.12151784  0.50575728]\n",
      " [-0.522335   -0.59177353  0.00829246  0.40167972]\n",
      " [ 1.87760524 -0.54459678  0.37619153 -0.71117744]]\n",
      "[[ 1.95104048 -0.75899181  0.22927153  1.40683388 -1.06941278]\n",
      " [-1.21943649  0.63515878 -0.63989946  1.60005952 -0.73053211]\n",
      " [-1.00961838 -1.00258633  0.0681837  -2.0945802   0.20400452]\n",
      " [ 0.38814262 -1.75707828 -0.4824393  -0.50772612  1.38866649]]\n",
      "[[ 0.06055428 -0.04893002 -0.54879678  1.07547275  0.83341686 -1.47583658]\n",
      " [ 0.74712368  1.00258257  0.2258517   0.97527548  0.73848242 -1.53902354]\n",
      " [-0.61467094  0.20814807 -0.18790157 -0.86316959 -1.23754406 -1.29235042]\n",
      " [-1.99923375 -0.07382168 -0.27681805 -1.36027232  0.5855727  -0.97528801]\n",
      " [-1.64405171 -1.27124784 -1.05299662  0.2792999  -0.82506997  0.32110636]]\n",
      "[[-0.11374406  1.35794504 -0.11545032 -0.76371361]\n",
      " [-2.75919108 -0.15617236  0.84418205 -0.0958334 ]\n",
      " [-0.04700253  0.27679941 -0.1259984   0.53984661]\n",
      " [-0.83124689 -0.19962157 -0.55306774  0.89621782]\n",
      " [ 1.57226703  1.63260011 -0.47598149 -0.01658262]\n",
      " [ 0.54232012 -0.27074864 -1.15821899  0.1274309 ]]\n",
      "[[-0.29932465 -1.10132653  0.26241438]\n",
      " [-0.31468906 -1.38047171 -0.28418684]\n",
      " [ 1.06063756  1.05415661  0.63905395]\n",
      " [-0.0169926   0.27999367 -0.19613978]]\n",
      "[[ 0.06563724 -0.86653775  1.0631313 ]\n",
      " [-0.74119514  1.40115879 -2.14391785]\n",
      " [-0.54568732 -0.06089909  0.71062105]]\n"
     ]
    }
   ],
   "source": [
    "np.random.seed(17)\n",
    "X = np.random.randn(100, 4)\n",
    "output = nn.forward(X)\n",
    "\n",
    "assert output.shape == (100, 3)\n",
    "\n",
    "layer_weights = []\n",
    "for layer in nn.layers:\n",
    "    if isinstance(layer, LinearLayer):\n",
    "        layer_weights.append(layer.W.shape)\n",
    "right_weights = [(4, 4), (4, 5), (5, 6), (6, 4), (4, 3), (3, 3)]\n",
    "assert layer_weights == right_weights"
   ]
  },
  {
   "cell_type": "markdown",
   "id": "02ec8398",
   "metadata": {},
   "source": [
    "Если прошли все ассерты, поздравляю, теперь вы способны построить полносвязную сеть любой конфигурации для любой задачи 🥳️🥳️🥳️🥳️🥳️🥳️🥳️\n",
    "![](https://kartinkof.club/uploads/posts/2022-06/1655926105_23-kartinkof-club-p-kartinki-s-nadpisyu-kto-molodets-ya-molode-24.jpg)"
   ]
  }
 ],
 "metadata": {
  "kernelspec": {
   "display_name": "Python 3",
   "language": "python",
   "name": "python3"
  },
  "language_info": {
   "codemirror_mode": {
    "name": "ipython",
    "version": 3
   },
   "file_extension": ".py",
   "mimetype": "text/x-python",
   "name": "python",
   "nbconvert_exporter": "python",
   "pygments_lexer": "ipython3",
   "version": "3.10.5"
  }
 },
 "nbformat": 4,
 "nbformat_minor": 5
}
